{
 "cells": [
  {
   "cell_type": "code",
   "execution_count": null,
   "id": "152d6196",
   "metadata": {
    "vscode": {
     "languageId": "plaintext"
    }
   },
   "outputs": [],
   "source": [
    "# --- Script: cargar_bases_datos.py ---\n",
    "\n",
    "# 1. Importar librerías\n",
    "import pandas as pd\n",
    "\n",
    "# 2. Montar Google Drive (si los archivos están en tu Drive)\n",
    "from google.colab import drive\n",
    "drive.mount('/content/drive')\n",
    "\n",
    "# 3. Definir rutas de los CSV (ajusta según tu carpeta en Drive)\n",
    "ruta_base = \"/Base_unificada.csv\"\n",
    "ruta_edad = \"/Por_Edad.csv\"\n",
    "ruta_horario = \"/Por_Horario.csv\"\n",
    "ruta_dia = \"/Por_Dia.csv\"\n",
    "\n",
    "# 4. Cargar cada archivo en un DataFrame\n",
    "df_base = pd.read_csv(ruta_base)\n",
    "df_edad = pd.read_csv(ruta_edad)\n",
    "df_horario = pd.read_csv(ruta_horario)\n",
    "df_dia = pd.read_csv(ruta_dia)\n",
    "\n",
    "# 5. Mostrar las primeras filas de cada base\n",
    "print(\"Base unificada:\")\n",
    "display(df_base.head())\n",
    "\n",
    "print(\"\\nPor Edad:\")\n",
    "display(df_edad.head())\n",
    "\n",
    "print(\"\\nPor Horario:\")\n",
    "display(df_horario.head())\n",
    "\n",
    "print(\"\\nPor Día:\")\n",
    "display(df_dia.head())"
   ]
  }
 ],
 "metadata": {
  "language_info": {
   "name": "python"
  }
 },
 "nbformat": 4,
 "nbformat_minor": 5
}
